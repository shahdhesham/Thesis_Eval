{
 "cells": [
  {
   "cell_type": "code",
   "execution_count": 1,
   "id": "f4c2ef98-f133-4211-8893-ef0b74b0bf64",
   "metadata": {},
   "outputs": [],
   "source": [
    "import os\n",
    "from dotenv import load_dotenv\n",
    "from openai import OpenAI\n",
    "import gradio as gr\n"
   ]
  },
  {
   "cell_type": "code",
   "execution_count": 2,
   "id": "90207109-4bef-4961-bcb6-1fa411d65ecf",
   "metadata": {},
   "outputs": [
    {
     "name": "stdout",
     "output_type": "stream",
     "text": [
      "Requirement already satisfied: nltk in c:\\users\\lenovo\\anaconda3\\lib\\site-packages (3.6.7)\n",
      "Collecting nltk\n",
      "  Using cached nltk-3.9.1-py3-none-any.whl.metadata (2.9 kB)\n",
      "Requirement already satisfied: click in c:\\users\\lenovo\\anaconda3\\lib\\site-packages (from nltk) (8.1.7)\n",
      "Requirement already satisfied: joblib in c:\\users\\lenovo\\anaconda3\\lib\\site-packages (from nltk) (1.4.2)\n",
      "Requirement already satisfied: regex>=2021.8.3 in c:\\users\\lenovo\\anaconda3\\lib\\site-packages (from nltk) (2023.10.3)\n",
      "Requirement already satisfied: tqdm in c:\\users\\lenovo\\anaconda3\\lib\\site-packages (from nltk) (4.66.4)\n",
      "Requirement already satisfied: colorama in c:\\users\\lenovo\\anaconda3\\lib\\site-packages (from click->nltk) (0.4.6)\n",
      "Using cached nltk-3.9.1-py3-none-any.whl (1.5 MB)\n",
      "Installing collected packages: nltk\n",
      "  Attempting uninstall: nltk\n",
      "    Found existing installation: nltk 3.6.7\n",
      "    Uninstalling nltk-3.6.7:\n",
      "      Successfully uninstalled nltk-3.6.7\n",
      "Successfully installed nltk-3.9.1\n"
     ]
    }
   ],
   "source": [
    "!pip install -U nltk"
   ]
  },
  {
   "cell_type": "code",
   "execution_count": 3,
   "id": "63f49ff1-5b1a-406f-a6f8-99c14537264e",
   "metadata": {},
   "outputs": [],
   "source": [
    "from nltk.translate.bleu_score import sentence_bleu, SmoothingFunction"
   ]
  },
  {
   "cell_type": "code",
   "execution_count": 4,
   "id": "fbbc5df2-4013-44ab-aaaf-87360170c289",
   "metadata": {},
   "outputs": [],
   "source": [
    "load_dotenv()\n",
    "os.environ['OPENAI_API_KEY'] = os.getenv('OPENAI_API_KEY', 'your-key-if-not-using-env')"
   ]
  },
  {
   "cell_type": "code",
   "execution_count": 5,
   "id": "4e3d966e-3e2e-425a-8add-7d54f403aa68",
   "metadata": {},
   "outputs": [],
   "source": [
    "openai = OpenAI()\n",
    "MODEL = 'gpt-4o-mini'"
   ]
  },
  {
   "cell_type": "code",
   "execution_count": 6,
   "id": "a43fe3c2-70db-47c1-b156-1a4a5bc90ec8",
   "metadata": {},
   "outputs": [],
   "source": [
    "system_message = \"You are a code translator, you translate from c to Java and  the output should only be code\""
   ]
  },
  {
   "cell_type": "code",
   "execution_count": 7,
   "id": "806dd8ee-0f37-450f-ae94-e31a9f91dd2f",
   "metadata": {},
   "outputs": [],
   "source": [
    "prompt = \"\"\" Translate following C code to Java:\n",
    "#include <stdio.h>\n",
    "\n",
    "int main() {\n",
    "    int a, b, sum = 0;\n",
    "  \n",
    "     \n",
    "    printf(\"Enter two integers: \");\n",
    "    scanf(\"%d %d\", &a, &b);\n",
    "\n",
    "   \n",
    "    sum = a + b;\n",
    "\n",
    "    printf(\"Sum: %d\", sum);\n",
    "\n",
    "    return 0;\n",
    "}\n",
    "\"\"\"\n"
   ]
  },
  {
   "cell_type": "code",
   "execution_count": 8,
   "id": "69b09f4d-69f4-4827-936d-9790079c6223",
   "metadata": {},
   "outputs": [],
   "source": [
    " messages = [\n",
    "        {\"role\": \"system\", \"content\": system_message},\n",
    "        {\"role\": \"user\", \"content\": prompt}\n",
    "      ]"
   ]
  },
  {
   "cell_type": "code",
   "execution_count": 9,
   "id": "dec484a9-8ec8-4a52-842a-cb5067a6ccae",
   "metadata": {},
   "outputs": [
    {
     "name": "stdout",
     "output_type": "stream",
     "text": [
      "```java\n",
      "import java.util.Scanner;\n",
      "\n",
      "public class Main {\n",
      "    public static void main(String[] args) {\n",
      "        int a, b, sum = 0;\n",
      "\n",
      "        Scanner scanner = new Scanner(System.in);\n",
      "        System.out.print(\"Enter two integers: \");\n",
      "        a = scanner.nextInt();\n",
      "        b = scanner.nextInt();\n",
      "\n",
      "        sum = a + b;\n",
      "\n",
      "        System.out.println(\"Sum: \" + sum);\n",
      "    }\n",
      "}\n",
      "```\n"
     ]
    }
   ],
   "source": [
    "response = openai.chat.completions.create(\n",
    "        model='gpt-4o-mini',\n",
    "        messages=messages,\n",
    "    )\n",
    "\n",
    "print ( response.choices[0].message.content )"
   ]
  },
  {
   "cell_type": "code",
   "execution_count": 10,
   "id": "c37afa51-9662-43bf-8b98-d4982e9080b3",
   "metadata": {},
   "outputs": [
    {
     "name": "stdout",
     "output_type": "stream",
     "text": [
      "```java\n",
      "import java.util.Scanner;\n",
      "\n",
      "public class Main {\n",
      "    public static void main(String[] args) {\n",
      "        int a, b, sum = 0;\n",
      "\n",
      "        Scanner scanner = new Scanner(System.in);\n",
      "        System.out.print(\"Enter two integers: \");\n",
      "        a = scanner.nextInt();\n",
      "        b = scanner.nextInt();\n",
      "\n",
      "        sum = a + b;\n",
      "\n",
      "        System.out.println(\"Sum: \" + sum);\n",
      "    }\n",
      "}\n",
      "```\n"
     ]
    }
   ],
   "source": [
    "generated = response.choices[0].message.content.strip()\n",
    "print (generated)\n",
    "\n"
   ]
  },
  {
   "cell_type": "code",
   "execution_count": 11,
   "id": "7a86be21-21af-481a-847d-eb56f6bbf9a0",
   "metadata": {},
   "outputs": [],
   "source": [
    "refrence = \"\"\"\n",
    "import java.util.Scanner;\n",
    "\n",
    "public class Main {\n",
    "    public static void main(String[] args) {\n",
    "        int a, b, sum = 0;\n",
    "\n",
    "        System.out.print(\"Enter two integers: \");\n",
    "        Scanner scanner = new Scanner(System.in);\n",
    "        a = scanner.nextInt();\n",
    "        b = scanner.nextInt();\n",
    "\n",
    "        sum = a + b;\n",
    "\n",
    "        System.out.println(\"Sum: \" + sum);\n",
    "    }\n",
    "}\"\"\""
   ]
  },
  {
   "cell_type": "code",
   "execution_count": 12,
   "id": "ae07d673-58d0-4e58-97dc-82205cdfffc2",
   "metadata": {},
   "outputs": [],
   "source": [
    "refrence_tokens = [refrence.split()]\n",
    "generated_tokens = generated.split()"
   ]
  },
  {
   "cell_type": "code",
   "execution_count": 13,
   "id": "b30f6c22-0862-4ed0-84c9-01506cac495c",
   "metadata": {},
   "outputs": [
    {
     "name": "stdout",
     "output_type": "stream",
     "text": [
      "['```java', 'import', 'java.util.Scanner;', 'public', 'class', 'Main', '{', 'public', 'static', 'void', 'main(String[]', 'args)', '{', 'int', 'a,', 'b,', 'sum', '=', '0;', 'Scanner', 'scanner', '=', 'new', 'Scanner(System.in);', 'System.out.print(\"Enter', 'two', 'integers:', '\");', 'a', '=', 'scanner.nextInt();', 'b', '=', 'scanner.nextInt();', 'sum', '=', 'a', '+', 'b;', 'System.out.println(\"Sum:', '\"', '+', 'sum);', '}', '}', '```']\n",
      "[['import', 'java.util.Scanner;', 'public', 'class', 'Main', '{', 'public', 'static', 'void', 'main(String[]', 'args)', '{', 'int', 'a,', 'b,', 'sum', '=', '0;', 'System.out.print(\"Enter', 'two', 'integers:', '\");', 'Scanner', 'scanner', '=', 'new', 'Scanner(System.in);', 'a', '=', 'scanner.nextInt();', 'b', '=', 'scanner.nextInt();', 'sum', '=', 'a', '+', 'b;', 'System.out.println(\"Sum:', '\"', '+', 'sum);', '}', '}']]\n"
     ]
    }
   ],
   "source": [
    "print (generated_tokens)\n",
    "print (refrence_tokens)"
   ]
  },
  {
   "cell_type": "code",
   "execution_count": 14,
   "id": "f2fc2d45-15c6-46ea-9125-17372feceab1",
   "metadata": {},
   "outputs": [],
   "source": [
    "smooth_fn = SmoothingFunction().method4"
   ]
  },
  {
   "cell_type": "code",
   "execution_count": 15,
   "id": "9d9da162-627b-48b9-9351-644d326e88dc",
   "metadata": {},
   "outputs": [],
   "source": [
    "bleu_score =  sentence_bleu (refrence_tokens, generated_tokens, smoothing_function = smooth_fn)"
   ]
  },
  {
   "cell_type": "code",
   "execution_count": 16,
   "id": "de382f28-9989-4d50-8c1d-2c9f5e0b8e5b",
   "metadata": {},
   "outputs": [
    {
     "name": "stdout",
     "output_type": "stream",
     "text": [
      "Requirement already satisfied: nltk in c:\\users\\lenovo\\anaconda3\\lib\\site-packages (3.9.1)\n",
      "Requirement already satisfied: click in c:\\users\\lenovo\\anaconda3\\lib\\site-packages (from nltk) (8.1.7)\n",
      "Requirement already satisfied: joblib in c:\\users\\lenovo\\anaconda3\\lib\\site-packages (from nltk) (1.4.2)\n",
      "Requirement already satisfied: regex>=2021.8.3 in c:\\users\\lenovo\\anaconda3\\lib\\site-packages (from nltk) (2023.10.3)\n",
      "Requirement already satisfied: tqdm in c:\\users\\lenovo\\anaconda3\\lib\\site-packages (from nltk) (4.66.4)\n",
      "Requirement already satisfied: colorama in c:\\users\\lenovo\\anaconda3\\lib\\site-packages (from click->nltk) (0.4.6)\n",
      "Note: you may need to restart the kernel to use updated packages.\n"
     ]
    }
   ],
   "source": [
    "pip install --pre nltk"
   ]
  },
  {
   "cell_type": "code",
   "execution_count": 37,
   "id": "37454e11-f33f-4343-b4a1-cacebe0cd484",
   "metadata": {},
   "outputs": [
    {
     "name": "stdout",
     "output_type": "stream",
     "text": [
      " code Bleu Score \n",
      "0.8482393534028356\n"
     ]
    }
   ],
   "source": [
    "print ( \" code Bleu Score \" )\n",
    "print ( bleu_score)"
   ]
  },
  {
   "cell_type": "code",
   "execution_count": 17,
   "id": "986808f1-40fe-4835-af5c-c957405e9490",
   "metadata": {},
   "outputs": [
    {
     "name": "stdout",
     "output_type": "stream",
     "text": [
      "0.7186082239261684\n"
     ]
    },
    {
     "name": "stderr",
     "output_type": "stream",
     "text": [
      "C:\\Users\\LENOVO\\anaconda3\\Lib\\site-packages\\nltk\\translate\\bleu_score.py:577: UserWarning: \n",
      "The hypothesis contains 0 counts of 3-gram overlaps.\n",
      "Therefore the BLEU score evaluates to 0, independently of\n",
      "how many N-gram overlaps of lower order it contains.\n",
      "Consider using lower n-gram order or use SmoothingFunction()\n",
      "  warnings.warn(_msg)\n",
      "C:\\Users\\LENOVO\\anaconda3\\Lib\\site-packages\\nltk\\translate\\bleu_score.py:577: UserWarning: \n",
      "The hypothesis contains 0 counts of 4-gram overlaps.\n",
      "Therefore the BLEU score evaluates to 0, independently of\n",
      "how many N-gram overlaps of lower order it contains.\n",
      "Consider using lower n-gram order or use SmoothingFunction()\n",
      "  warnings.warn(_msg)\n"
     ]
    }
   ],
   "source": [
    "from nltk.translate.bleu_score import sentence_bleu\n",
    "\n",
    "# Define your desired weights (example: higher weight for bi-grams)\n",
    "weights = (0.25, 0.25, 0, 0) # Weights for uni-gram, bi-gram, tri-gram, and 4-gram\n",
    "\n",
    "# Reference and predicted texts (same as before)\n",
    "reference = [[\"the\", \"picture\", \"is\", \"clicked\", \"by\", \"me\"],\n",
    "\t\t\t[\"this\", \"picture\", \"was\", \"clicked\", \"by\", \"me\"]]\n",
    "predictions = [\"the\", \"picture\", \"the\", \"picture\", \"by\", \"me\"]\n",
    "\n",
    "# Calculate BLEU score with weights\n",
    "score = sentence_bleu(reference, predictions, weights=weights)\n",
    "print(score)\n"
   ]
  },
  {
   "cell_type": "code",
   "execution_count": null,
   "id": "28af57f9-0096-4834-844a-4224f899c1bc",
   "metadata": {},
   "outputs": [],
   "source": []
  },
  {
   "cell_type": "code",
   "execution_count": null,
   "id": "0ce830e6-611d-4a6c-a5df-bc2f15933877",
   "metadata": {},
   "outputs": [],
   "source": []
  }
 ],
 "metadata": {
  "kernelspec": {
   "display_name": "Python 3 (ipykernel)",
   "language": "python",
   "name": "python3"
  },
  "language_info": {
   "codemirror_mode": {
    "name": "ipython",
    "version": 3
   },
   "file_extension": ".py",
   "mimetype": "text/x-python",
   "name": "python",
   "nbconvert_exporter": "python",
   "pygments_lexer": "ipython3",
   "version": "3.12.4"
  }
 },
 "nbformat": 4,
 "nbformat_minor": 5
}
