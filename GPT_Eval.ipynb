{
 "cells": [
  {
   "cell_type": "code",
   "execution_count": 32,
   "id": "f4c2ef98-f133-4211-8893-ef0b74b0bf64",
   "metadata": {},
   "outputs": [],
   "source": [
    "import os\n",
    "from dotenv import load_dotenv\n",
    "from openai import OpenAI\n",
    "import gradio as gr\n"
   ]
  },
  {
   "cell_type": "code",
   "execution_count": 33,
   "id": "faf43882-23b7-4c4c-b421-6ffef2568320",
   "metadata": {},
   "outputs": [],
   "source": [
    "import subprocess\n",
    "#This line imports the subprocess module, which allows us to run shell commands (e.g., compile and execute C programs) from within Python. This is crucial for interacting with external systems like compilers."
   ]
  },
  {
   "cell_type": "code",
   "execution_count": 34,
   "id": "90207109-4bef-4961-bcb6-1fa411d65ecf",
   "metadata": {},
   "outputs": [],
   "source": [
    "#!pip install -U nltk"
   ]
  },
  {
   "cell_type": "code",
   "execution_count": 35,
   "id": "63f49ff1-5b1a-406f-a6f8-99c14537264e",
   "metadata": {},
   "outputs": [],
   "source": [
    "from nltk.translate.bleu_score import sentence_bleu, SmoothingFunction"
   ]
  },
  {
   "cell_type": "code",
   "execution_count": 36,
   "id": "fbbc5df2-4013-44ab-aaaf-87360170c289",
   "metadata": {},
   "outputs": [],
   "source": [
    "load_dotenv()\n",
    "os.environ['OPENAI_API_KEY'] = os.getenv('OPENAI_API_KEY', 'your-key-if-not-using-env')"
   ]
  },
  {
   "cell_type": "code",
   "execution_count": 37,
   "id": "4e3d966e-3e2e-425a-8add-7d54f403aa68",
   "metadata": {},
   "outputs": [],
   "source": [
    "openai = OpenAI()\n",
    "MODEL = 'gpt-4o-mini'"
   ]
  },
  {
   "cell_type": "code",
   "execution_count": 38,
   "id": "a43fe3c2-70db-47c1-b156-1a4a5bc90ec8",
   "metadata": {},
   "outputs": [],
   "source": [
    "system_message = \"You are a code translator, you translate from c to Java and  the output should only be code\""
   ]
  },
  {
   "cell_type": "code",
   "execution_count": 39,
   "id": "806dd8ee-0f37-450f-ae94-e31a9f91dd2f",
   "metadata": {},
   "outputs": [],
   "source": [
    "prompt = \"\"\" Translate following C code to Java:\n",
    "#include <stdio.h>\n",
    "\n",
    "int main() {\n",
    "    int a, b, sum = 0;\n",
    "  \n",
    "     \n",
    "    printf(\"Enter two integers: \");\n",
    "    scanf(\"%d %d\", &a, &b);\n",
    "\n",
    "   \n",
    "    sum = a + b;\n",
    "\n",
    "    printf(\"Sum: %d\", sum);\n",
    "\n",
    "    return 0;\n",
    "}\n",
    "\"\"\"\n"
   ]
  },
  {
   "cell_type": "code",
   "execution_count": 40,
   "id": "69b09f4d-69f4-4827-936d-9790079c6223",
   "metadata": {},
   "outputs": [],
   "source": [
    " messages = [\n",
    "        {\"role\": \"system\", \"content\": system_message},\n",
    "        {\"role\": \"user\", \"content\": prompt}\n",
    "      ]"
   ]
  },
  {
   "cell_type": "code",
   "execution_count": 41,
   "id": "dec484a9-8ec8-4a52-842a-cb5067a6ccae",
   "metadata": {},
   "outputs": [
    {
     "name": "stdout",
     "output_type": "stream",
     "text": [
      "```java\n",
      "import java.util.Scanner;\n",
      "\n",
      "public class Main {\n",
      "    public static void main(String[] args) {\n",
      "        int a, b, sum = 0;\n",
      "\n",
      "        Scanner scanner = new Scanner(System.in);\n",
      "        System.out.print(\"Enter two integers: \");\n",
      "        a = scanner.nextInt();\n",
      "        b = scanner.nextInt();\n",
      "\n",
      "        sum = a + b;\n",
      "\n",
      "        System.out.println(\"Sum: \" + sum);\n",
      "    }\n",
      "}\n",
      "```\n"
     ]
    }
   ],
   "source": [
    "response = openai.chat.completions.create(\n",
    "        model='gpt-4o-mini',\n",
    "        messages=messages,\n",
    "    )\n",
    "\n",
    "print ( response.choices[0].message.content )"
   ]
  },
  {
   "cell_type": "code",
   "execution_count": 42,
   "id": "c37afa51-9662-43bf-8b98-d4982e9080b3",
   "metadata": {},
   "outputs": [
    {
     "name": "stdout",
     "output_type": "stream",
     "text": [
      "```java\n",
      "import java.util.Scanner;\n",
      "\n",
      "public class Main {\n",
      "    public static void main(String[] args) {\n",
      "        int a, b, sum = 0;\n",
      "\n",
      "        Scanner scanner = new Scanner(System.in);\n",
      "        System.out.print(\"Enter two integers: \");\n",
      "        a = scanner.nextInt();\n",
      "        b = scanner.nextInt();\n",
      "\n",
      "        sum = a + b;\n",
      "\n",
      "        System.out.println(\"Sum: \" + sum);\n",
      "    }\n",
      "}\n",
      "```\n"
     ]
    }
   ],
   "source": [
    "generated = response.choices[0].message.content.strip()\n",
    "print (generated)\n",
    "\n"
   ]
  },
  {
   "cell_type": "code",
   "execution_count": 43,
   "id": "7a86be21-21af-481a-847d-eb56f6bbf9a0",
   "metadata": {},
   "outputs": [],
   "source": [
    "refrence = \"\"\"\n",
    "import java.util.Scanner;\n",
    "\n",
    "public class Main {\n",
    "    public static void main(String[] args) {\n",
    "        int a, b, sum = 0;\n",
    "\n",
    "        System.out.print(\"Enter two integers: \");\n",
    "        Scanner scanner = new Scanner(System.in);\n",
    "        a = scanner.nextInt();\n",
    "        b = scanner.nextInt();\n",
    "\n",
    "        sum = a + b;\n",
    "\n",
    "        System.out.println(\"Sum: \" + sum);\n",
    "    }\n",
    "}\"\"\""
   ]
  },
  {
   "cell_type": "code",
   "execution_count": 44,
   "id": "ae07d673-58d0-4e58-97dc-82205cdfffc2",
   "metadata": {},
   "outputs": [],
   "source": [
    "refrence_tokens = [refrence.split()]\n",
    "generated_tokens = generated.split()"
   ]
  },
  {
   "cell_type": "code",
   "execution_count": 45,
   "id": "b30f6c22-0862-4ed0-84c9-01506cac495c",
   "metadata": {},
   "outputs": [
    {
     "name": "stdout",
     "output_type": "stream",
     "text": [
      "['```java', 'import', 'java.util.Scanner;', 'public', 'class', 'Main', '{', 'public', 'static', 'void', 'main(String[]', 'args)', '{', 'int', 'a,', 'b,', 'sum', '=', '0;', 'Scanner', 'scanner', '=', 'new', 'Scanner(System.in);', 'System.out.print(\"Enter', 'two', 'integers:', '\");', 'a', '=', 'scanner.nextInt();', 'b', '=', 'scanner.nextInt();', 'sum', '=', 'a', '+', 'b;', 'System.out.println(\"Sum:', '\"', '+', 'sum);', '}', '}', '```']\n",
      "[['import', 'java.util.Scanner;', 'public', 'class', 'Main', '{', 'public', 'static', 'void', 'main(String[]', 'args)', '{', 'int', 'a,', 'b,', 'sum', '=', '0;', 'System.out.print(\"Enter', 'two', 'integers:', '\");', 'Scanner', 'scanner', '=', 'new', 'Scanner(System.in);', 'a', '=', 'scanner.nextInt();', 'b', '=', 'scanner.nextInt();', 'sum', '=', 'a', '+', 'b;', 'System.out.println(\"Sum:', '\"', '+', 'sum);', '}', '}']]\n"
     ]
    }
   ],
   "source": [
    "print (generated_tokens)\n",
    "print (refrence_tokens)"
   ]
  },
  {
   "cell_type": "code",
   "execution_count": 46,
   "id": "f2fc2d45-15c6-46ea-9125-17372feceab1",
   "metadata": {},
   "outputs": [],
   "source": [
    "smooth_fn = SmoothingFunction().method4"
   ]
  },
  {
   "cell_type": "code",
   "execution_count": 47,
   "id": "9d9da162-627b-48b9-9351-644d326e88dc",
   "metadata": {},
   "outputs": [],
   "source": [
    "bleu_score =  sentence_bleu (refrence_tokens, generated_tokens, smoothing_function = smooth_fn)"
   ]
  },
  {
   "cell_type": "code",
   "execution_count": 48,
   "id": "de382f28-9989-4d50-8c1d-2c9f5e0b8e5b",
   "metadata": {},
   "outputs": [],
   "source": [
    "# pip install --pre nltk"
   ]
  },
  {
   "cell_type": "code",
   "execution_count": 49,
   "id": "37454e11-f33f-4343-b4a1-cacebe0cd484",
   "metadata": {},
   "outputs": [
    {
     "name": "stdout",
     "output_type": "stream",
     "text": [
      " code Bleu Score \n",
      "0.8482393534028356\n"
     ]
    }
   ],
   "source": [
    "print ( \" code Bleu Score \" )\n",
    "print ( bleu_score)"
   ]
  },
  {
   "cell_type": "code",
   "execution_count": 50,
   "id": "986808f1-40fe-4835-af5c-c957405e9490",
   "metadata": {},
   "outputs": [],
   "source": [
    "# from nltk.translate.bleu_score import sentence_bleu\n",
    "\n",
    "# # Define your desired weights (example: higher weight for bi-grams)\n",
    "# weights = (0.25, 0.25, 0, 0) # Weights for uni-gram, bi-gram, tri-gram, and 4-gram\n",
    "\n",
    "# # Reference and predicted texts (same as before)\n",
    "# reference = [[\"the\", \"picture\", \"is\", \"clicked\", \"by\", \"me\"],\n",
    "# \t\t\t[\"this\", \"picture\", \"was\", \"clicked\", \"by\", \"me\"]]\n",
    "# predictions = [\"the\", \"picture\", \"the\", \"picture\", \"by\", \"me\"]\n",
    "\n",
    "# # Calculate BLEU score with weights\n",
    "# score = sentence_bleu(reference, predictions, weights=weights)\n",
    "# print(score)\n"
   ]
  },
  {
   "cell_type": "code",
   "execution_count": 51,
   "id": "28af57f9-0096-4834-844a-4224f899c1bc",
   "metadata": {},
   "outputs": [
    {
     "name": "stdout",
     "output_type": "stream",
     "text": [
      "Match Success Rate (MSR): False\n"
     ]
    }
   ],
   "source": [
    "# Metric: Match Success Rate (MSR) Function \n",
    "def compute_msr(refrence_tokens, generated_tokens):\n",
    "    return refrence_tokens == generated_tokens\n",
    "\n",
    "\n",
    "msr_score = compute_msr(refrence_tokens, generated_tokens)\n",
    "\n",
    "print(f\"Match Success Rate (MSR): {msr_score}\")\n"
   ]
  },
  {
   "cell_type": "code",
   "execution_count": 111,
   "id": "062997e1-8630-4669-9b9c-62e6703b57d2",
   "metadata": {},
   "outputs": [],
   "source": [
    "# # Function to execute C code and capture its output  - Testing the fucntion\n",
    "# def execute_c_code(c_code):\n",
    "#     \"\"\"\n",
    "#     This function writes the C code to a temporary .c file, compiles it using the gcc compiler,\n",
    "#     and runs the resulting executable to capture its output.\n",
    "    \n",
    "#     Parameters:\n",
    "#     c_code (str): The C code to compile and execute.\n",
    "    \n",
    "#     Returns:\n",
    "#     str: The output of the compiled C program (stdout).\n",
    "#     None: If there is an error during compilation or execution.\n",
    "#     \"\"\"\n",
    "#     # Save the C code to a temporary file named 'TempProgram.c'\n",
    "#     with open('TempProgram.c', 'w') as file:\n",
    "#         file.write(c_code)\n",
    "    \n",
    "#     # Compile the C code using the gcc compiler and create an executable named 'TempProgram'\n",
    "#     compile_process = subprocess.run(['gcc', 'TempProgram.c', '-o', 'TempProgram'], capture_output=True, text=True)\n",
    "    \n",
    "#     # Check if the compilation was successful\n",
    "#     if compile_process.returncode != 0:\n",
    "#         print(\"Compilation Error:\", compile_process.stderr)  # If there's a compilation error, print it\n",
    "#         return None  # Return None if compilation failed\n",
    "    \n",
    "#     # Run the compiled executable and capture its output (stdout)\n",
    "#     run_process = subprocess.run(['./TempProgram'], capture_output=True, text=True)\n",
    "    \n",
    "#     # Return the output of the program (stdout)\n",
    "#     return run_process.stdout.strip()\n",
    "\n",
    "# # Function to check Computational Accuracy (CA)\n",
    "# def compute_computational_accuracy(reference_code, generated_code):\n",
    "#     \"\"\"\n",
    "#     This function compares the output of the reference C code and the generated C code.\n",
    "#     It saves the C code to .c files for inspection and then checks if the outputs of both\n",
    "#     programs match when executed.\n",
    "    \n",
    "#     Parameters:\n",
    "#     reference_code (str): The original C code (reference code).\n",
    "#     generated_code (str): The generated C code (translated code).\n",
    "    \n",
    "#     Returns:\n",
    "#     bool: True if the outputs of both programs match, False otherwise.\n",
    "#     \"\"\"\n",
    "    \n",
    "#     # Save the reference C code to a .c file (for viewing before compilation)\n",
    "#     with open(\"reference_code.c\", \"w\") as file:\n",
    "#         file.write(reference_code)\n",
    "\n",
    "#     # Save the generated C code to a .c file (for viewing before compilation)\n",
    "#     with open(\"generated_code.c\", \"w\") as file:\n",
    "#         file.write(generated_code)\n",
    "\n",
    "#     # Inform the user that the C code has been saved to files\n",
    "#     print(\"C code has been saved to reference_code.c and generated_code.c\")\n",
    "    \n",
    "#     # Execute the reference C code and the generated C code to capture their outputs\n",
    "#     reference_output = execute_c_code(reference_code)\n",
    "#     generated_output = execute_c_code(generated_code)\n",
    "    \n",
    "#     # If either of the outputs is None (due to error), return False\n",
    "#     # This handles cases where there was an issue with compiling or running the C code\n",
    "#     if reference_output is None or generated_output is None:\n",
    "#         return False\n",
    "    \n",
    "#     # Compare the outputs and return True if they match, False otherwise\n",
    "#     # This is the core of the \"Computational Accuracy\" check\n",
    "#     return reference_output == generated_output\n",
    "\n",
    "# # Example Usage\n",
    "# # Reference C code (original, expected output)\n",
    "# reference_c_code = \"\"\"\n",
    "# #include <stdio.h>\n",
    "\n",
    "# int main() {\n",
    "#     printf(\"Today is very cloudy\\\\n\");\n",
    "#     return 0;\n",
    "# }\n",
    "# \"\"\"\n",
    "\n",
    "# # Generated C code (from Java or Python translation)\n",
    "# generated_c_code = \"\"\"\n",
    "# #include <stdio.h>\n",
    "\n",
    "# int main() {\n",
    "#     puts(\"Today is very cloudy\");\n",
    "#     return 0;\n",
    "# }\n",
    "# \"\"\"\n",
    "\n",
    "# # Check Computational Accuracy (CA)\n",
    "# # This will compare the outputs of the reference and generated C code\n",
    "# result = compute_computational_accuracy(reference_c_code, generated_c_code)\n",
    "\n",
    "# # Print the result of the comparison\n",
    "# # This will be True if the outputs of both programs match, False otherwise\n",
    "# print(\"Computational Accuracy:\", result)  # Output: True if outputs match, False otherwise\n"
   ]
  },
  {
   "cell_type": "code",
   "execution_count": 63,
   "id": "5b5c0575-ba65-4074-9172-62aae6dbe5d6",
   "metadata": {},
   "outputs": [
    {
     "name": "stdout",
     "output_type": "stream",
     "text": [
      "```java\n",
      "import java.util.Scanner;\n",
      "\n",
      "public class Main {\n",
      "    public static void main(String[] args) {\n",
      "        int a, b, sum = 0;\n",
      "\n",
      "        Scanner scanner = new Scanner(System.in);\n",
      "        System.out.print(\"Enter two integers: \");\n",
      "        a = scanner.nextInt();\n",
      "        b = scanner.nextInt();\n",
      "\n",
      "        sum = a + b;\n",
      "\n",
      "        System.out.println(\"Sum: \" + sum);\n",
      "    }\n",
      "}\n",
      "```\n",
      "\n",
      "import java.util.Scanner;\n",
      "\n",
      "public class Main {\n",
      "    public static void main(String[] args) {\n",
      "        int a, b, sum = 0;\n",
      "\n",
      "        System.out.print(\"Enter two integers: \");\n",
      "        Scanner scanner = new Scanner(System.in);\n",
      "        a = scanner.nextInt();\n",
      "        b = scanner.nextInt();\n",
      "\n",
      "        sum = a + b;\n",
      "\n",
      "        System.out.println(\"Sum: \" + sum);\n",
      "    }\n",
      "}\n"
     ]
    }
   ],
   "source": [
    "generated = response.choices[0].message.content.strip()\n",
    "print (generated)\n",
    "print (refrence)\n"
   ]
  },
  {
   "cell_type": "code",
   "execution_count": 109,
   "id": "422ec9dd-bd17-4c01-a4ed-b1b0dab8aaac",
   "metadata": {},
   "outputs": [
    {
     "name": "stdout",
     "output_type": "stream",
     "text": [
      "C++ code has been saved to reference_code.cpp and generated_code.cpp\n",
      "Compiling reference_code.cpp to create reference_code...\n",
      "Compilation successful, executable created: reference_code\n",
      "Execution Output:\n",
      "Sum: 5\n",
      "Compiling generated_code.cpp to create generated_code...\n",
      "Compilation successful, executable created: generated_code\n",
      "Execution Output:\n",
      "Sum: 5\n",
      "Computational Accuracy: True\n"
     ]
    }
   ],
   "source": [
    "import subprocess\n",
    "import os\n",
    "\n",
    "# Function to execute C++ code and capture its output using gcc\n",
    "def execute_cpp_file_with_gcc(file_name):\n",
    "    \"\"\"\n",
    "    Compile and execute an existing C++ file using gcc and return its output.\n",
    "    \n",
    "    Parameters:\n",
    "    file_name (str): The name of the C++ file to compile and execute.\n",
    "    \n",
    "    Returns:\n",
    "    str: The output of the compiled C++ program (stdout).\n",
    "    None: If there is an error during compilation or execution.\n",
    "    \"\"\"\n",
    "    # Ensure output file name is valid (replace .cpp with a valid executable name)\n",
    "    output_file = file_name.replace('.cpp', '')\n",
    "\n",
    "    print(f\"Compiling {file_name} to create {output_file}...\")\n",
    "\n",
    "    # Compile the C++ code using gcc (with -x c++ to specify C++ code) and create an executable\n",
    "    compile_process = subprocess.run(\n",
    "        ['gcc', '-x', 'c++', file_name, '-o', output_file, '-lstdc++'], \n",
    "        capture_output=True, text=True\n",
    "    )\n",
    "    \n",
    "    # Check if the compilation was successful\n",
    "    if compile_process.returncode != 0:\n",
    "        print(f\"Compilation Error for {file_name}: {compile_process.stderr}\")\n",
    "        return None  # Return None if compilation failed\n",
    "    \n",
    "    print(f\"Compilation successful, executable created: {output_file}\")\n",
    "    \n",
    "    # Run the compiled executable and capture its output (stdout)\n",
    "    run_process = subprocess.run([f'./{output_file}'], capture_output=True, text=True)\n",
    "    \n",
    "    if run_process.returncode != 0:\n",
    "        print(f\"Execution Error: {run_process.stderr}\")\n",
    "        return None  # If execution fails, return None\n",
    "    \n",
    "    print(f\"Execution Output:\\n{run_process.stdout.strip()}\")\n",
    "    return run_process.stdout.strip()\n",
    "\n",
    "# Function to check Computational Accuracy (CA)\n",
    "def compute_computational_accuracy(reference_file, generated_file):\n",
    "    \"\"\"\n",
    "    Compare the outputs of two C++ programs (saved as files) for computational accuracy.\n",
    "\n",
    "    Parameters:\n",
    "    reference_file (str): The path to the reference C++ file.\n",
    "    generated_file (str): The path to the generated C++ file.\n",
    "\n",
    "    Returns:\n",
    "    bool: True if the outputs of both programs match, False otherwise.\n",
    "    \"\"\"\n",
    "    \n",
    "    # Save the reference C++ code to a .cpp file (for viewing before compilation)\n",
    "    with open(\"reference_code.cpp\", \"w\") as file:\n",
    "        file.write(reference_file)\n",
    "\n",
    "    # Save the generated C++ code to a .cpp file (for viewing before compilation)\n",
    "    with open(\"generated_code.cpp\", \"w\") as file:\n",
    "        file.write(generated_file)\n",
    "\n",
    "    # Inform the user that the C++ code has been saved to files\n",
    "    print(\"C++ code has been saved to reference_code.cpp and generated_code.cpp\")\n",
    "    \n",
    "    # Execute the reference C++ code and the generated C++ code to capture their outputs\n",
    "    reference_output = execute_cpp_file_with_gcc(\"reference_code.cpp\")\n",
    "    generated_output = execute_cpp_file_with_gcc(\"generated_code.cpp\")\n",
    "    \n",
    "    # If either of the outputs is None (due to error), return False\n",
    "    if reference_output is None or generated_output is None:\n",
    "        return False\n",
    "    \n",
    "    # Clean up the generated C++ files after execution\n",
    "    # os.remove(\"reference_code.cpp\")\n",
    "    # os.remove(\"generated_code.cpp\")\n",
    "    \n",
    "    # Compare the outputs and return True if they match, False otherwise\n",
    "    return reference_output == generated_output\n",
    "\n",
    "# Example reference C++ code (C to C++ translation of the C example)\n",
    "reference_cpp = \"\"\"\n",
    "#include <iostream>\n",
    "using namespace std;\n",
    "\n",
    "int main() {\n",
    "    int a, b, sum;\n",
    "    a=2;\n",
    "    b=3;\n",
    "   \n",
    "    \n",
    "    sum = a + b;\n",
    "    \n",
    "    cout << \"Sum: \" << sum << endl;\n",
    "    \n",
    "    return 0;\n",
    "}\n",
    "\"\"\"\n",
    "\n",
    "# Example generated C++ code (could be the result of a transformation process)\n",
    "generated_cpp = \"\"\"\n",
    "#include <iostream>\n",
    "using namespace std;\n",
    "\n",
    "int main() {\n",
    "    int a, b, c, sum;\n",
    "    a=2;\n",
    "    b=3;\n",
    "    c=7;\n",
    "    sum=0;\n",
    "    \n",
    "    sum = a + b;\n",
    "    \n",
    "    cout << \"Sum: \" << sum << endl;\n",
    "    \n",
    "    return 0;\n",
    "}\n",
    "\"\"\"\n",
    "\n",
    "\n",
    "\n",
    "# Example reference C++ code (C to C++ translation of the C example)\n",
    "greference_cpp = \"\"\"\n",
    "#include <iostream>\n",
    "using namespace std;\n",
    "\n",
    "int main() {\n",
    "    int a, b, sum;\n",
    "    \n",
    "    cout << \"Enter two integers: \";\n",
    "    cin >> a >> b;\n",
    "    \n",
    "    sum = a + b;\n",
    "    \n",
    "    cout << \"Sum: \" << sum << endl;\n",
    "    \n",
    "    return 0;\n",
    "}\n",
    "\"\"\"\n",
    "# Example generated C++ code (could be the result of a transformation process)\n",
    "ggenerated_cpp = \"\"\"\n",
    "#include <iostream>\n",
    "using namespace std;\n",
    "\n",
    "int main() {\n",
    "    int a, b, sum;\n",
    "    \n",
    "    cout << \"Enter two integers: \";\n",
    "    cin >> a >> b;\n",
    "    \n",
    "    sum = a + b;\n",
    "    \n",
    "    cout << \"Sum: \" << sum << endl;\n",
    "    \n",
    "    return 0;\n",
    "}\n",
    "\"\"\"\n",
    "\n",
    "\n",
    "# Check Computational Accuracy (CA)\n",
    "result = compute_computational_accuracy(reference_cpp, generated_cpp)\n",
    "\n",
    "# Print the result of the comparison\n",
    "print(\"Computational Accuracy:\", result)  # Output: True if outputs match, False otherwise\n"
   ]
  },
  {
   "cell_type": "code",
   "execution_count": null,
   "id": "19ea8a10-1543-492b-a66e-9a6221988d09",
   "metadata": {},
   "outputs": [],
   "source": []
  }
 ],
 "metadata": {
  "kernelspec": {
   "display_name": "Python 3 (ipykernel)",
   "language": "python",
   "name": "python3"
  },
  "language_info": {
   "codemirror_mode": {
    "name": "ipython",
    "version": 3
   },
   "file_extension": ".py",
   "mimetype": "text/x-python",
   "name": "python",
   "nbconvert_exporter": "python",
   "pygments_lexer": "ipython3",
   "version": "3.12.4"
  }
 },
 "nbformat": 4,
 "nbformat_minor": 5
}
